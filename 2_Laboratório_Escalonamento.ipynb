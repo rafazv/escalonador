{
 "cells": [
  {
   "cell_type": "markdown",
   "metadata": {
    "colab_type": "text",
    "id": "t1B1lQ1sXJKr"
   },
   "source": [
    "### Laboratorio de Escalonamento ###\n",
    "\n",
    "Neste laboratório, iremos simular o funcionamento de algoritmos de escalonamento básicos para entender melhor seu funcionamento.\n",
    "\n",
    "Na célula abaixo, temos uma classe Processo, que tem as informações de execução, e uma classe de exemplo de escalonamento apenas com os protótipos:\n",
    "\n",
    "(orientação a objeto em Python)"
   ]
  },
  {
   "cell_type": "code",
   "execution_count": 166,
   "metadata": {
    "colab": {},
    "colab_type": "code",
    "id": "CKLCRHZhXJKs"
   },
   "outputs": [],
   "source": [
    "import numpy as np\n",
    "import random\n",
    "import matplotlib.pyplot as plt\n",
    "\n",
    "class Processo(object):\n",
    "    def __init__(self,pnome,pio,ptam,prioridade,tempoChegada,tickets=0):\n",
    "        self.nome = pnome\n",
    "        self.io = pio # Probabilidade de fazer E/S, inicialmente zero\n",
    "        self.tam = ptam # Quantos Timeslices sao necessarios para terminar\n",
    "        self.prio = prioridade # Prioridade, eh desnecessaria agora \n",
    "        self.chegada = 0\n",
    "        self.bilhetes = tickets\n",
    "        \n",
    "    def roda(self,quantum=None): # se rodar sem quantum, o processor roda ate o fim\n",
    "        if(random.randint(1,100)<self.io): #Verifica se fez E/S\n",
    "            self.tam-=1\n",
    "            print(self.nome,\" fez e/s, falta \",self.tam)\n",
    "            return 1, True #True que fez E/S\n",
    "            \n",
    "            \n",
    "        if(quantum is None or self.tam<quantum):\n",
    "            quantum = self.tam\n",
    "        self.tam -=quantum\n",
    "        print(self.nome,\" rodou por \",quantum,\" timeslice, faltam \",self.tam)\n",
    "        return quantum, False # False se nao fez E/S\n",
    "    \n",
    "def tempExec(self,tempoTermino):\n",
    "    return tempoTermino - self.chegada"
   ]
  },
  {
   "cell_type": "code",
   "execution_count": 266,
   "metadata": {},
   "outputs": [],
   "source": [
    "class loteria(object): # Protótipo de escalonador de exemplo\n",
    "    def __init__(self,vprontos=[],total_tickets=50):\n",
    "        self.prontos = vprontos #processos que chegam ao tempo zero\n",
    "        self.total_tickets = total_tickets\n",
    "        self._total_tickets_aux = total_tickets\n",
    "        self.prontos.sort(key=lambda a: a.bilhetes, reverse=True)\n",
    "\n",
    "    def pronto(self,Processo):\n",
    "        # implemente aqui o que escalonador faz quando surge um novo processo pronto\n",
    "        self.prontos.append(Processo)\n",
    "        self.prontos.sort(key=lambda a: a.bilhetes, reverse=True)\n",
    "        \n",
    "    def proximo(self):\n",
    "        # implemente aqui a politica de escalonamento para definir um processo a ser executado\n",
    "        # sorteiar o novo bilhete - o proximo processo a ser executado\n",
    "        total = 0\n",
    "        number = random.randint(0, self._total_tickets_aux-1)\n",
    "#         print(\"total tickets aux: \",self._total_tickets_aux)\n",
    "        for i in range(len(self.prontos)):\n",
    "            total += self.prontos[i].bilhetes\n",
    "            if (number <= total):\n",
    "#                 print(\"processo: \",self.prontos[i].nome)\n",
    "#                 print(\"sorteio: \", number)\n",
    "#                 print(\"total: \", total)\n",
    "                return self.prontos.pop(i)\n",
    "\n",
    "        return None"
   ]
  },
  {
   "cell_type": "markdown",
   "metadata": {
    "colab_type": "text",
    "id": "14846ZyfXJKx"
   },
   "source": [
    "Na célula abaixo, são criados quatro processos completamente CPU-Bound que precisam de 3 timeslices para rodar.\n",
    "\n",
    "O valor de E/S é um número entre 0 e 100 indicando quantos porcento de chance o processo tem de fazer E/S durante seu tempo na CPU"
   ]
  },
  {
   "cell_type": "code",
   "execution_count": 70,
   "metadata": {
    "colab": {},
    "colab_type": "code",
    "id": "Rc4wVHA4XJKx"
   },
   "outputs": [],
   "source": [
    "nprocs = 4\n",
    "nomes = ['A','B','C','D']\n",
    "chanceio = [0,0,0,0] #Valor de zero a cem, chance de ser entrada e saida por enquanto deixem em zero\n",
    "tamanho = np.array([3,3,3,3])\n",
    "\n",
    "\n",
    "total = tamanho.sum()\n",
    "\n",
    "procs = []\n",
    "for i in range(nprocs):\n",
    "    procs.append(Processo(nomes[i],chanceio[i],tamanho[i],0,0)) #cria uma lista procs de Processos"
   ]
  },
  {
   "cell_type": "code",
   "execution_count": 190,
   "metadata": {},
   "outputs": [],
   "source": [
    "x = [] # job length\n",
    "y = [] # U"
   ]
  },
  {
   "cell_type": "code",
   "execution_count": 212,
   "metadata": {},
   "outputs": [],
   "source": [
    "# LOTERIA\n",
    "# 1\n",
    "# nprocs = 2\n",
    "# nomes = ['P1', 'P2']\n",
    "# chanceio = [0,0]\n",
    "# tamanho = np.array([25,75])\n",
    "# tickets = np.array([100,1])\n",
    "\n",
    "# total = 100\n",
    "\n",
    "# quantum = 5\n",
    "# tempo = 0\n",
    "\n",
    "# 2\n",
    "# nprocs = 2\n",
    "# nomes = ['P1', 'P2']\n",
    "# chanceio = [0,0]\n",
    "# tamanho = np.array([100,100])\n",
    "# tickets = np.array([100,100])\n",
    "\n",
    "# total = tamanho.sum()\n",
    "\n",
    "# quantum = 100\n",
    "# tempo = 0\n",
    "\n",
    "# 3\n",
    "nprocs = 2\n",
    "nomes = ['P1', 'P2']\n",
    "chanceio = [0,0]\n",
    "tamanho = np.array([100,110])\n",
    "tickets = np.array([100,100])\n",
    "\n",
    "total = tamanho.sum()\n",
    "x.append(total)\n",
    "\n",
    "quantum = 2\n",
    "tempo = 0\n",
    "\n",
    "# -----------------\n",
    "\n",
    "procs = []\n",
    "for i in range(nprocs):\n",
    "    procs.append(Processo(nomes[i],chanceio[i],tamanho[i],0,0,tickets[i]))\n",
    "\n",
    "escLot = loteria(procs)\n",
    "\n",
    "tempoExec = []"
   ]
  },
  {
   "cell_type": "markdown",
   "metadata": {
    "colab_type": "text",
    "id": "VkfIM_1iXJK0"
   },
   "source": [
    "Na célula abaixo, temos o mesmo simulador do laboratório anterior:"
   ]
  },
  {
   "cell_type": "code",
   "execution_count": 213,
   "metadata": {},
   "outputs": [
    {
     "name": "stdout",
     "output_type": "stream",
     "text": [
      "P1  rodou por  2  timeslice, faltam  98\n",
      "P2  rodou por  2  timeslice, faltam  108\n",
      "P1  rodou por  2  timeslice, faltam  96\n",
      "P2  rodou por  2  timeslice, faltam  106\n",
      "P1  rodou por  2  timeslice, faltam  94\n",
      "P2  rodou por  2  timeslice, faltam  104\n",
      "P1  rodou por  2  timeslice, faltam  92\n",
      "P2  rodou por  2  timeslice, faltam  102\n",
      "P1  rodou por  2  timeslice, faltam  90\n",
      "P2  rodou por  2  timeslice, faltam  100\n",
      "P1  rodou por  2  timeslice, faltam  88\n",
      "P2  rodou por  2  timeslice, faltam  98\n",
      "P1  rodou por  2  timeslice, faltam  86\n",
      "P2  rodou por  2  timeslice, faltam  96\n",
      "P1  rodou por  2  timeslice, faltam  84\n",
      "P2  rodou por  2  timeslice, faltam  94\n",
      "P1  rodou por  2  timeslice, faltam  82\n",
      "P2  rodou por  2  timeslice, faltam  92\n",
      "P1  rodou por  2  timeslice, faltam  80\n",
      "P2  rodou por  2  timeslice, faltam  90\n",
      "P1  rodou por  2  timeslice, faltam  78\n",
      "P2  rodou por  2  timeslice, faltam  88\n",
      "P1  rodou por  2  timeslice, faltam  76\n",
      "P2  rodou por  2  timeslice, faltam  86\n",
      "P1  rodou por  2  timeslice, faltam  74\n",
      "P2  rodou por  2  timeslice, faltam  84\n",
      "P1  rodou por  2  timeslice, faltam  72\n",
      "P2  rodou por  2  timeslice, faltam  82\n",
      "P1  rodou por  2  timeslice, faltam  70\n",
      "P2  rodou por  2  timeslice, faltam  80\n",
      "P1  rodou por  2  timeslice, faltam  68\n",
      "P2  rodou por  2  timeslice, faltam  78\n",
      "P1  rodou por  2  timeslice, faltam  66\n",
      "P2  rodou por  2  timeslice, faltam  76\n",
      "P1  rodou por  2  timeslice, faltam  64\n",
      "P2  rodou por  2  timeslice, faltam  74\n",
      "P1  rodou por  2  timeslice, faltam  62\n",
      "P2  rodou por  2  timeslice, faltam  72\n",
      "P1  rodou por  2  timeslice, faltam  60\n",
      "P2  rodou por  2  timeslice, faltam  70\n",
      "P1  rodou por  2  timeslice, faltam  58\n",
      "P2  rodou por  2  timeslice, faltam  68\n",
      "P1  rodou por  2  timeslice, faltam  56\n",
      "P2  rodou por  2  timeslice, faltam  66\n",
      "P1  rodou por  2  timeslice, faltam  54\n",
      "P2  rodou por  2  timeslice, faltam  64\n",
      "P1  rodou por  2  timeslice, faltam  52\n",
      "P2  rodou por  2  timeslice, faltam  62\n",
      "P1  rodou por  2  timeslice, faltam  50\n",
      "P2  rodou por  2  timeslice, faltam  60\n",
      "P1  rodou por  2  timeslice, faltam  48\n",
      "P2  rodou por  2  timeslice, faltam  58\n",
      "P1  rodou por  2  timeslice, faltam  46\n",
      "P2  rodou por  2  timeslice, faltam  56\n",
      "P1  rodou por  2  timeslice, faltam  44\n",
      "P2  rodou por  2  timeslice, faltam  54\n",
      "P1  rodou por  2  timeslice, faltam  42\n",
      "P2  rodou por  2  timeslice, faltam  52\n",
      "P1  rodou por  2  timeslice, faltam  40\n",
      "P2  rodou por  2  timeslice, faltam  50\n",
      "P1  rodou por  2  timeslice, faltam  38\n",
      "P2  rodou por  2  timeslice, faltam  48\n",
      "P1  rodou por  2  timeslice, faltam  36\n",
      "P2  rodou por  2  timeslice, faltam  46\n",
      "P1  rodou por  2  timeslice, faltam  34\n",
      "P2  rodou por  2  timeslice, faltam  44\n",
      "P1  rodou por  2  timeslice, faltam  32\n",
      "P2  rodou por  2  timeslice, faltam  42\n",
      "P1  rodou por  2  timeslice, faltam  30\n",
      "P2  rodou por  2  timeslice, faltam  40\n",
      "P1  rodou por  2  timeslice, faltam  28\n",
      "P2  rodou por  2  timeslice, faltam  38\n",
      "P1  rodou por  2  timeslice, faltam  26\n",
      "P2  rodou por  2  timeslice, faltam  36\n",
      "P1  rodou por  2  timeslice, faltam  24\n",
      "P2  rodou por  2  timeslice, faltam  34\n",
      "P1  rodou por  2  timeslice, faltam  22\n",
      "P2  rodou por  2  timeslice, faltam  32\n",
      "P1  rodou por  2  timeslice, faltam  20\n",
      "P2  rodou por  2  timeslice, faltam  30\n",
      "P1  rodou por  2  timeslice, faltam  18\n",
      "P2  rodou por  2  timeslice, faltam  28\n",
      "P1  rodou por  2  timeslice, faltam  16\n",
      "P2  rodou por  2  timeslice, faltam  26\n",
      "P1  rodou por  2  timeslice, faltam  14\n",
      "P2  rodou por  2  timeslice, faltam  24\n",
      "P1  rodou por  2  timeslice, faltam  12\n",
      "P2  rodou por  2  timeslice, faltam  22\n",
      "P1  rodou por  2  timeslice, faltam  10\n",
      "P2  rodou por  2  timeslice, faltam  20\n",
      "P1  rodou por  2  timeslice, faltam  8\n",
      "P2  rodou por  2  timeslice, faltam  18\n",
      "P1  rodou por  2  timeslice, faltam  6\n",
      "P2  rodou por  2  timeslice, faltam  16\n",
      "P1  rodou por  2  timeslice, faltam  4\n",
      "P2  rodou por  2  timeslice, faltam  14\n",
      "P1  rodou por  2  timeslice, faltam  2\n",
      "P2  rodou por  2  timeslice, faltam  12\n",
      "P1  rodou por  2  timeslice, faltam  0\n",
      "Tempo execucao -  P1 :  198\n",
      "P2  rodou por  2  timeslice, faltam  10\n",
      "P2  rodou por  2  timeslice, faltam  8\n",
      "P2  rodou por  2  timeslice, faltam  6\n",
      "P2  rodou por  2  timeslice, faltam  4\n",
      "P2  rodou por  2  timeslice, faltam  2\n",
      "P2  rodou por  2  timeslice, faltam  0\n",
      "Tempo execucao -  P2 :  210\n"
     ]
    }
   ],
   "source": [
    "# random.seed(0)\n",
    "\n",
    "while total>0:\n",
    "    p = escLot.proximo()\n",
    "    if(p is not None):\n",
    "        rodou, _ = p.roda(quantum) #adicione quantum como parâmetro, por enquanto nao temos E/S\n",
    "        \n",
    "        if(p.tam>0):\n",
    "            escLot.pronto(p)\n",
    "        total-=rodou\n",
    "        tempo+=rodou\n",
    "        if (p.tam == 0):\n",
    "            print(\"Tempo execucao - \", p.nome,\": \", tempExec(p, tempo))\n",
    "            tempoExec.append(tempExec(p, tempo))\n",
    "    else:\n",
    "        #Reduz o tempo de todos os bloqueados em uma unidade se nao havia ninguem pronto\n",
    "        tempo+=1\n",
    "\n",
    "\n",
    "y.append(tempoExec[0]/tempoExec[1])"
   ]
  },
  {
   "cell_type": "code",
   "execution_count": 214,
   "metadata": {},
   "outputs": [
    {
     "data": {
      "image/png": "[encoded data removed]",
      "text/plain": [
       "<Figure size 432x288 with 1 Axes>"
      ]
     },
     "metadata": {
      "needs_background": "light"
     },
     "output_type": "display_data"
    }
   ],
   "source": [
    "plt.plot(x,y)\n",
    "plt.ylabel('Unfairness')\n",
    "plt.xlabel('Tamanho processos')\n",
    "plt.show()"
   ]
  },
  {
   "cell_type": "markdown",
   "metadata": {},
   "source": [
    "Nesta, temos um simulador avançado, com E/S e novos processos chegando em momentos diferentes:"
   ]
  },
  {
   "cell_type": "code",
   "execution_count": 269,
   "metadata": {},
   "outputs": [],
   "source": [
    "maximo = 10\n",
    "chanceNovoProcesso = 60\n",
    "chanceIo = 30\n",
    "minTime = 4\n",
    "maxTime = 10\n",
    "\n",
    "total = 0\n",
    "\n",
    "contaProc = 1\n",
    "tempo = 0\n",
    "\n",
    "quantum = 2\n",
    "tempoBloq = 2\n",
    "\n",
    "# escLot = loteria([])\n",
    "bloqueados = []\n",
    "\n",
    "# ----------------\n",
    "\n",
    "nprocs = 3\n",
    "nomes = ['P1', 'P2', 'P3']\n",
    "chanceio = [random.randint(1,chanceIo),random.randint(1,chanceIo),random.randint(1,chanceIo)]\n",
    "tamanho = np.array([10,10,10])\n",
    "tickets = np.array([10,20,50])\n",
    "\n",
    "total = tamanho.sum()\n",
    "\n",
    "procs = []\n",
    "for i in range(nprocs):\n",
    "    procs.append(Processo(nomes[i],chanceio[i],tamanho[i],0,0,tickets[i]))\n",
    "\n",
    "escLot = loteria(procs)"
   ]
  },
  {
   "cell_type": "code",
   "execution_count": 270,
   "metadata": {
    "colab": {},
    "colab_type": "code",
    "id": "7LPgBMrXXJK1",
    "scrolled": false
   },
   "outputs": [
    {
     "name": "stdout",
     "output_type": "stream",
     "text": [
      "P3  rodou por  2  timeslice, faltam  8\n",
      "P3  rodou por  2  timeslice, faltam  6\n",
      "P3  rodou por  2  timeslice, faltam  4\n",
      "P3  fez e/s, falta  3\n",
      "P2  fez e/s, falta  9\n",
      "P3  rodou por  2  timeslice, faltam  1\n",
      "P3  rodou por  1  timeslice, faltam  0\n",
      "P2  fez e/s, falta  8\n",
      "P2  rodou por  2  timeslice, faltam  6\n",
      "P2  fez e/s, falta  5\n",
      "P1  rodou por  2  timeslice, faltam  8\n",
      "P2  fez e/s, falta  4\n",
      "P1  fez e/s, falta  7\n",
      "P2  rodou por  2  timeslice, faltam  2\n",
      "P2  rodou por  2  timeslice, faltam  0\n",
      "P1  rodou por  2  timeslice, faltam  5\n",
      "P1  rodou por  2  timeslice, faltam  3\n",
      "P1  rodou por  2  timeslice, faltam  1\n",
      "P1  fez e/s, falta  0\n"
     ]
    }
   ],
   "source": [
    "#descomente essa linha caso queira que os random sempre dêem o mesmo resultado\n",
    "#random.seed(0)\n",
    "\n",
    "while tempo<maximo or len(escLot.prontos)>0:\n",
    "    \n",
    "    #Novo processo tem chanceProcesso% de chance surgir enquanto o tempo não chegar no máximo\n",
    "#     if(tempo<maximo and random.randint(1,100)<chanceNovoProcesso):\n",
    "#         tam = random.randint(minTime,maxTime)\n",
    "#         p = Processo('P'+str(contaProc),random.randint(1,chanceIo),tam,0,tempo)\n",
    "#         total += tam\n",
    "#         print(\"Processo\",p.nome,\" chegou no tempo\",tempo)\n",
    "#         escLot.pronto(p)\n",
    "#         contaProc+=1\n",
    "        \n",
    "\n",
    "    p = escLot.proximo()\n",
    "    \n",
    "    if(p is not None):\n",
    "        rodou, fezio = p.roda(quantum)\n",
    "        if(fezio and p.tam>0):\n",
    "            bloqueados.append([p,tempoBloq+1]) #Adiciona o processo que fez e/s aos bloqueados\n",
    "        elif(p.tam>0):\n",
    "            escLot.pronto(p)\n",
    "        total-=rodou\n",
    "        tempo+=rodou\n",
    "    else:\n",
    "        #Reduz o tempo de todos os bloqueados em uma unidade\n",
    "        tempo+=1\n",
    "    if(len(bloqueados)>0):\n",
    "        for i in bloqueados:\n",
    "            i[1]-=1\n",
    "            if(i[1]==0):\n",
    "                escLot.pronto(i[0])\n",
    "                del i  "
   ]
  },
  {
   "cell_type": "markdown",
   "metadata": {
    "colab_type": "text",
    "id": "l-WBMAKhXJK4"
   },
   "source": [
    "### Laboratório: ###\n",
    "\n",
    "Neste laboratório vocês (em duplas) irão implementar 3 escalonadores:\n",
    "\n",
    "1 - MLFQ: Adicione parâmetros para definir o número de filas, o quantum de cada uma e o tempo de boost.\n",
    "\n",
    "2 - Loteria: tem um atributo `prioridade` no Processo, use ele para definir um número aleatório de bilhetes, similar ao que ocorre com e/s e outros parämetros\n",
    "\n",
    "3 - Stride: Similar ao loteria.\n",
    "\n"
   ]
  },
  {
   "cell_type": "markdown",
   "metadata": {
    "colab_type": "text",
    "id": "G5T25EzaXJK5"
   },
   "source": [
    "## Responda ##\n",
    "\n",
    "#### Sobre Loteria: ####\n",
    "\n",
    "1 - Rode a simulação mais simples com apenas dois processos, um com 100 tickets e outro com 1, com tempo 100 para terminar. O que aconteceu? O segundo processo conseguiu rodar alguma vez? Testando com outras sementes o resultado se manteve?\n",
    "\n",
    "2 - Rode a simulação simples com dois processos com 100 tickets e 100 timeslices. Calcule a Unfairness para quantum=2. Repita a operação para quantum 10, 20, 50 e 100. O que aconteceu?\n",
    "\n",
    "3 - Rode novamente dois processos com 100 tickets no simulador simples e quantum=2. Calcule a unfairness conforme o tamanho dos processos aumenta e faça um gráfico similar ao dos slides.\n",
    "\n",
    "4 - Rode o simulador maior com três tipos de processo possíveis: um com 10 tickets, um com 20 e um com 50. O que aconteceu com os que receberam menos tickets? Eles tiveram chance de rodar?"
   ]
  },
  {
   "attachments": {},
   "cell_type": "markdown",
   "metadata": {
    "colab": {},
    "colab_type": "code",
    "id": "BlxysVYbuuDX"
   },
   "source": [
    "1 - O processo com 100 tickets rodou mais vezes que o com o 1; obedeceu a proporção dos workloads mas dando preferência para quem possuia mais tickets. Sim. Sim.\n",
    "\n",
    "2 - Quanto maior o valor do quantum, menor o valor de U, logo, mais \"injusto\", pois os tempos de execução estão mais distantes um do outro.\n",
    "\n",
    "3 - Gráfico mais acima. \n",
    "\n",
    "4 - Rodaram somente depois dos mais prioritários rodarem. Sim."
   ]
  },
  {
   "cell_type": "markdown",
   "metadata": {},
   "source": [
    "#### Sobre Stride ####\n",
    "\n",
    "1 - Repita o cenário da 2 de loteria e faça um novo gráfico.\n",
    "\n",
    "2 - No simulador maior, qual o efeito que ter muitos processos fazendo E/S tem no algoritmo? O que pode ser feito com a posição do processo quando ele volta de E/S?\n",
    "\n",
    "3 - No simulador maior, rode um cenário igual para stride e loteria (com a mesma semente aleatória) e calcule tempo de resposta, de execução e __tempo de espera__ (tempo que o processo passou pronto). O que mudou entre os dois?"
   ]
  },
  {
   "cell_type": "markdown",
   "metadata": {},
   "source": []
  },
  {
   "cell_type": "markdown",
   "metadata": {},
   "source": [
    "#### Sobre MLFQ ####\n",
    "\n",
    "1 - Rode o MLFQ no segundo simulador com duas filas e sem boost. O que aconteceu? \n",
    "\n",
    "2 - Quais configurações de parâmetros transformam o MLFQ no Round Robin?\n",
    "\n",
    "3 - Rodando no primeiro simulador, faça 1 dos quatro processos ser 100\\% CPU-Bound e os outros três 60\\% I/O Bound. Use a configuração com 3 filas, com 5, 3 e 1 timeslices para as fila em ordem de priorida. De quanto tempo deve ser o Boost para que o processo CPU-Bound não sofra starvation e tenha CPU 1 vez a cada 20 timeslices?\n",
    "\n",
    "4 - Teste diversas configurações de número de filas, quantum das filas e boost no simulador maior e ache a que leva ao melhor tempo de execução."
   ]
  },
  {
   "cell_type": "code",
   "execution_count": null,
   "metadata": {},
   "outputs": [],
   "source": []
  }
 ],
 "metadata": {
  "colab": {
   "name": "Laboratório Escalonamento.ipynb",
   "provenance": []
  },
  "kernelspec": {
   "display_name": "Python 3 (ipykernel)",
   "language": "python",
   "name": "python3"
  },
  "language_info": {
   "codemirror_mode": {
    "name": "ipython",
    "version": 3
   },
   "file_extension": ".py",
   "mimetype": "text/x-python",
   "name": "python",
   "nbconvert_exporter": "python",
   "pygments_lexer": "ipython3",
   "version": "3.9.6"
  }
 },
 "nbformat": 4,
 "nbformat_minor": 1
}
