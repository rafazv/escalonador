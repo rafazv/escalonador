{
 "cells": [
  {
   "cell_type": "markdown",
   "metadata": {
    "colab_type": "text",
    "id": "t1B1lQ1sXJKr"
   },
   "source": [
    "### Laboratorio de Escalonamento ###\n",
    "\n",
    "Neste laboratório, iremos simular o funcionamento de algoritmos de escalonamento básicos para entender melhor seu funcionamento.\n",
    "\n",
    "Na célula abaixo, temos uma classe Processo, que tem as informações de execução, e uma classe de exemplo de escalonamento apenas com os protótipos:\n",
    "\n",
    "(orientação a objeto em Python)"
   ]
  },
  {
   "cell_type": "code",
   "execution_count": 127,
   "metadata": {
    "colab": {},
    "colab_type": "code",
    "id": "CKLCRHZhXJKs"
   },
   "outputs": [],
   "source": [
    "import numpy as np\n",
    "import random\n",
    "\n",
    "class Processo(object):\n",
    "    def __init__(self,pnome,pio,ptam,prioridade,tempoChegada):\n",
    "        self.nome = pnome\n",
    "        self.io = pio # Probabilidade de fazer E/S, inicialmente zero\n",
    "        self.tam = ptam # Quantos Timeslices sao necessarios para terminar\n",
    "        self.prio = prioridade # Prioridade, eh desnecessaria aora \n",
    "        self.chegada = tempoChegada\n",
    "\n",
    "    def roda(self,quantum=None): # se rodar sem quantum, o processor roda ate o fim\n",
    "        if(random.randint(1,100)<self.io): #Verifica se fez E/S\n",
    "            self.tam-=1\n",
    "            print(self.nome,\" fez e/s, falta \",self.tam)\n",
    "            return 1, True #True que fez E/S\n",
    "            \n",
    "            \n",
    "        if(quantum is None or self.tam<quantum):\n",
    "            quantum = self.tam\n",
    "        self.tam -=quantum\n",
    "        print(self.nome,\" rodou por \",quantum,\" timeslice, faltam \",self.tam)\n",
    "        return quantum, False # False se nao fez E/S\n",
    "    \n",
    "class FIFO(object):     \n",
    "    def __init__(self,vprontos=[]):\n",
    "        self.prontos = vprontos #processos que chegam no tempo zero, no caso de FIFO - todos\n",
    "\n",
    "    def pronto(self,Processo):\n",
    "        # implemente aqui o que escalonador faz quando surge um novo processo pronto: add na fila\n",
    "        self.prontos.append(Processo)\n",
    "        \n",
    "    def proximo(self):\n",
    "        # implemente aqui a politica de escalonamento para definir um processo a ser executado\n",
    "            # retira da fila o proximo a ser executado\n",
    "            # \"executa\" -> somar o tempo do processo ao tempo total de execução        \n",
    "        p = self.prontos.pop(0)\n",
    "        return p #processo p eh escolhido\n",
    "    \n",
    "class SJF(object):     \n",
    "    def __init__(self,vprontos=[]):\n",
    "        self.prontos = vprontos #processos que chegam no tempo zero, no caso do SJF - todos\n",
    "        \n",
    "        # realiza a ordenação dos processos, visto que no SJF todos chegam no tempo 0\n",
    "        for j in range(0, len(self.prontos)):\n",
    "            for i in range(0, len(self.prontos)-1):\n",
    "                if(self.prontos[i].tam > self.prontos[i+1].tam):\n",
    "                    aux = self.prontos[i+1]\n",
    "                    self.prontos[i+1] = self.prontos[i]\n",
    "                    self.prontos[i] = aux\n",
    "        \n",
    "    def pronto(self,Processo):\n",
    "        # implemente aqui o que escalonador faz quando surge um novo processo pronto: add na fila\n",
    "        self.prontos.append(Processo)\n",
    "        \n",
    "    def proximo(self):\n",
    "        # implemente aqui a politica de escalonamento para definir um processo a ser executado\n",
    "            # os processos já estão ordenados por tempo menor, então é só seguir a fila\n",
    "            # \"executa\" -> retira da fila e soma o tempo do processo ao tempo total de execução         \n",
    "        p = self.prontos.pop(0)\n",
    "        return p #processo p eh escolhido"
   ]
  },
  {
   "cell_type": "markdown",
   "metadata": {
    "colab_type": "text",
    "id": "14846ZyfXJKx"
   },
   "source": [
    "Na célula abaixo, são criados quatro processos completamente CPU-Bound que precisam de 3 timeslices para rodar.\n",
    "\n",
    "O valor de E/S é um número entre 0 e 100 indicando quantos porcento de chance o processo tem de fazer E/S durante seu tempo na CPU"
   ]
  },
  {
   "cell_type": "code",
   "execution_count": 128,
   "metadata": {
    "colab": {},
    "colab_type": "code",
    "id": "Rc4wVHA4XJKx"
   },
   "outputs": [],
   "source": [
    "nprocs = 4\n",
    "nomes = ['A','B','C','D']\n",
    "chanceio = [0,0,0,0] #Valor de zero a cem, chance de ser entrada e saida por enquanto deixem em zero\n",
    "tamanho = np.array([10,10,10,10])\n",
    "tamanho2 = np.array([100,10,10,10])\n",
    "tempoExecMedio = 0\n",
    "tempoCheg = [0,0,0,0]\n",
    "\n",
    "total = tamanho.sum()\n",
    "\n",
    "procs = []\n",
    "for i in range(nprocs):\n",
    "    procs.append(Processo(nomes[i],chanceio[i],tamanho[i],0,tempoCheg[i])) #cria uma lista procs de Processos\n",
    "    \n",
    "procs2 = []\n",
    "for i in range(nprocs):\n",
    "    procs2.append(Processo(nomes[i],chanceio[i],tamanho2[i],0,tempoCheg[i])) #cria uma lista procs de Processos    \n",
    "\n"
   ]
  },
  {
   "cell_type": "markdown",
   "metadata": {
    "colab_type": "text",
    "id": "VkfIM_1iXJK0"
   },
   "source": [
    "Na célula abaixo, temos uma simulação do funcionamento de um escalonador de processos. As duas configurações importantes aqui são o valor do quantum padrão (que pode ser dinamico em algoritmos mais complexos, e quantos timeslices um processo que faz e/s passa bloqueado.\n",
    "\n",
    "Percebam que na terceira linha é instanciado o escalonador (neste caso, um round_robin). Isto foi feito assim para ser simples trocar o escalonador e repetir a simulação, bastando criar uma classe com os métodos pronto, proximo e construtor e alterar esta linha."
   ]
  },
  {
   "cell_type": "code",
   "execution_count": 129,
   "metadata": {
    "colab": {},
    "colab_type": "code",
    "id": "7LPgBMrXXJK1",
    "scrolled": true
   },
   "outputs": [
    {
     "name": "stdout",
     "output_type": "stream",
     "text": [
      "A  rodou por  10  timeslice, faltam  0\n",
      "Tempo resposta -  A :  0\n",
      "Tempo execucao -  A :  10\n",
      "B  rodou por  10  timeslice, faltam  0\n",
      "Tempo resposta -  B :  10\n",
      "Tempo execucao -  B :  20\n",
      "C  rodou por  10  timeslice, faltam  0\n",
      "Tempo resposta -  C :  20\n",
      "Tempo execucao -  C :  30\n",
      "D  rodou por  10  timeslice, faltam  0\n",
      "Tempo resposta -  D :  30\n",
      "Tempo execucao -  D :  40\n",
      "\n",
      "Tempo medio execucao:  25.0\n",
      "Tempo medio resposta:  15.0\n"
     ]
    }
   ],
   "source": [
    "quantum = 2\n",
    "tempoBloq = 1\n",
    "tempoMedioExec = 0\n",
    "tempoMedioResp = 0\n",
    "\n",
    "escFIFO = FIFO(procs) #troque escalonador pelo seu escalonador\n",
    "escSJF = SJF(procs2)\n",
    "\n",
    "bloqueados = []\n",
    "tempo = 0\n",
    "\n",
    "random.seed(0)\n",
    "\n",
    "def tempExec(self,tempoTermino):\n",
    "    return tempoTermino - self.chegada\n",
    "\n",
    "# tempo de resposta: quanto tempo demorou para o processo ser executado pela primeira vez desde que foi criado\n",
    "def tempResp(self,tempoExec1):\n",
    "    return tempoExec1 - self.chegada\n",
    "\n",
    "# tempo de espera: quanto tempo passou no estado pronto antes de ser executado pela primeira vez\n",
    "# def tempEsp()\n",
    "\n",
    "while total>0:\n",
    "    p = escFIFO.proximo()\n",
    "    if(p is not None):\n",
    "        rodou, _ = p.roda() #adicione quantum como parâmetro, por enquanto nao temos E/S\n",
    "        \n",
    "        if(p.tam>0):\n",
    "            escFIFO.pronto(p)\n",
    "        total-=rodou\n",
    "        print(\"Tempo resposta - \", p.nome,\": \", tempResp(p, tempo))\n",
    "        tempoMedioResp += tempResp(p, tempo)\n",
    "        tempo+=rodou\n",
    "        print(\"Tempo execucao - \", p.nome,\": \", tempExec(p, tempo))\n",
    "        tempoMedioExec += tempExec(p, tempo)\n",
    "    else:\n",
    "        #Reduz o tempo de todos os bloqueados em uma unidade se nao havia ninguem pronto\n",
    "        tempo+=1\n",
    "print(\"\")\n",
    "print(\"Tempo medio execucao: \", tempoMedioExec/nprocs)\n",
    "print(\"Tempo medio resposta: \", tempoMedioResp/nprocs)\n",
    "\n",
    "# ------ FIFO\n",
    "# A  rodou por  10  timeslice, faltam  0\n",
    "# Tempo resposta -  A :  0\n",
    "# Tempo execucao -  A :  10\n",
    "# B  rodou por  10  timeslice, faltam  0\n",
    "# Tempo resposta -  B :  10\n",
    "# Tempo execucao -  B :  20\n",
    "# C  rodou por  10  timeslice, faltam  0\n",
    "# Tempo resposta -  C :  20\n",
    "# Tempo execucao -  C :  30\n",
    "# D  rodou por  10  timeslice, faltam  0\n",
    "# Tempo resposta -  D :  30\n",
    "# Tempo execucao -  D :  40\n",
    "\n",
    "# Tempo medio execucao:  25.0\n",
    "# Tempo medio resposta:  15.0\n",
    "\n",
    "# ------ SJF\n",
    "# B  rodou por  10  timeslice, faltam  0\n",
    "# Tempo resposta -  B :  0\n",
    "# Tempo execucao -  B :  10\n",
    "# C  rodou por  10  timeslice, faltam  0\n",
    "# Tempo resposta -  C :  10\n",
    "# Tempo execucao -  C :  20\n",
    "# D  rodou por  10  timeslice, faltam  0\n",
    "# Tempo resposta -  D :  20\n",
    "# Tempo execucao -  D :  30\n",
    "# A  rodou por  100  timeslice, faltam  0\n",
    "# Tempo resposta -  A :  30\n",
    "# Tempo execucao -  A :  130\n",
    "\n",
    "# Tempo medio execucao:  47.5\n",
    "# Tempo medio resposta:  15.0"
   ]
  },
  {
   "cell_type": "markdown",
   "metadata": {
    "colab_type": "text",
    "id": "l-WBMAKhXJK4"
   },
   "source": [
    "### Laboratório: ###\n",
    "\n",
    "\n",
    "1 - Altere o simulador acima para calcular o tempo de execucao medio e tempo de resposta \n",
    "\n",
    "2 - Implemente o escalonador por FIFO e SJF e verifique seus tempos de execução e espera.\n",
    "\n",
    "3 - Faça em outra célula uma implementação do STCF e Round Robin, alterando o p.roda() para receber o quantum\n"
   ]
  },
  {
   "cell_type": "markdown",
   "metadata": {
    "colab_type": "text",
    "id": "G5T25EzaXJK5"
   },
   "source": [
    "Na segunda feira (15) haverá um questionário no ColabWeb onde você deverá utilizar suas implementações para responder às perguntas. Na terça de manhã farei uma breve conferência para tirar dúvidas."
   ]
  },
  {
   "cell_type": "code",
   "execution_count": null,
   "metadata": {},
   "outputs": [],
   "source": [
    "class STCF(object):     \n",
    "    def __init__(self,vprontos=[]):\n",
    "        self.prontos = vprontos #processos que chegam no tempo zero        \n",
    "        \n",
    "    def pronto(self,Processo):\n",
    "        # implemente aqui o que escalonador faz quando surge um novo processo pronto: add na fila\n",
    "        for j in range(0, len(self.prontos)):\n",
    "            for i in range(0, len(self.prontos)-1):\n",
    "                if(self.prontos[i].tam > self.prontos[i+1].tam):\n",
    "                    aux = self.prontos[i+1]\n",
    "                    self.prontos[i+1] = self.prontos[i]\n",
    "                    self.prontos[i] = aux\n",
    "        self.prontos.append(Processo)\n",
    "        \n",
    "    def proximo(self):\n",
    "        # implemente aqui a politica de escalonamento para definir um processo a ser executado\n",
    "            # os processos serão ordenados pelo tempo e depois retirados da fila\n",
    "            # \"executa\" -> retira da fila e soma o tempo do processo ao tempo total de execução\n",
    "        p = self.prontos.pop(0)\n",
    "        return p #processo p eh escolhido\n"
   ]
  }
 ],
 "metadata": {
  "colab": {
   "name": "Laboratório Escalonamento.ipynb",
   "provenance": []
  },
  "kernelspec": {
   "display_name": "Python 3 (ipykernel)",
   "language": "python",
   "name": "python3"
  },
  "language_info": {
   "codemirror_mode": {
    "name": "ipython",
    "version": 3
   },
   "file_extension": ".py",
   "mimetype": "text/x-python",
   "name": "python",
   "nbconvert_exporter": "python",
   "pygments_lexer": "ipython3",
   "version": "3.9.6"
  }
 },
 "nbformat": 4,
 "nbformat_minor": 1
}
