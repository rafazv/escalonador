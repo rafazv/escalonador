{
 "cells": [
  {
   "cell_type": "markdown",
   "metadata": {
    "colab_type": "text",
    "id": "t1B1lQ1sXJKr"
   },
   "source": [
    "### Laboratorio de Escalonamento ###\n",
    "\n",
    "Neste laboratório, iremos simular o funcionamento de algoritmos de escalonamento básicos para entender melhor seu funcionamento.\n",
    "\n",
    "Na célula abaixo, temos uma classe Processo, que tem as informações de execução, e uma classe de exemplo de escalonamento apenas com os protótipos:\n",
    "\n",
    "(orientação a objeto em Python)"
   ]
  },
  {
   "cell_type": "code",
   "execution_count": 3,
   "metadata": {
    "colab": {},
    "colab_type": "code",
    "id": "CKLCRHZhXJKs"
   },
   "outputs": [],
   "source": [
    "import numpy as np\n",
    "import random\n",
    "import matplotlib.pyplot as plt\n",
    "\n",
    "class Processo(object):\n",
    "    def __init__(self,pnome,pio,ptam,prioridade,tempoChegada):\n",
    "        self.nome = pnome\n",
    "        self.io = pio # Probabilidade de fazer E/S, inicialmente zero\n",
    "        self.tam = ptam # Quantos Timeslices sao necessarios para terminar\n",
    "        self.prio = prioridade # Prioridade, eh desnecessaria aora \n",
    "        self.chegada = tempoChegada\n",
    "\n",
    "    def roda(self,quantum=None): # se rodar sem quantum, o processor roda ate o fim\n",
    "        if(random.randint(1,100)<self.io): #Verifica se fez E/S\n",
    "            self.tam-=1\n",
    "            print(self.nome,\" fez e/s, falta \",self.tam)\n",
    "            return 1, True #True que fez E/S\n",
    "            \n",
    "            \n",
    "        if(quantum is None or self.tam<quantum):\n",
    "            quantum = self.tam\n",
    "        self.tam -=quantum\n",
    "        print(self.nome,\" rodou por \",quantum,\" timeslice, faltam \",self.tam)\n",
    "        return quantum, False # False se nao fez E/S"
   ]
  },
  {
   "cell_type": "code",
   "execution_count": 4,
   "metadata": {},
   "outputs": [],
   "source": [
    "def tempExec(self,tempoTermino):\n",
    "    return tempoTermino - self.chegada\n",
    "\n",
    "# tempo de resposta: quanto tempo demorou para o processo ser executado pela primeira vez desde que foi criado\n",
    "def tempResp(self,tempoExec1):\n",
    "    return tempoExec1 - self.chegada\n",
    "\n",
    "# tempo de espera: quanto tempo passou no estado pronto antes de ser executado pela primeira vez"
   ]
  },
  {
   "cell_type": "markdown",
   "metadata": {
    "colab_type": "text",
    "id": "14846ZyfXJKx"
   },
   "source": [
    "Na célula abaixo, são criados quatro processos completamente CPU-Bound que precisam de 3 timeslices para rodar.\n",
    "\n",
    "O valor de E/S é um número entre 0 e 100 indicando quantos porcento de chance o processo tem de fazer E/S durante seu tempo na CPU"
   ]
  },
  {
   "cell_type": "markdown",
   "metadata": {
    "colab_type": "text",
    "id": "VkfIM_1iXJK0"
   },
   "source": [
    "Na célula abaixo, temos uma simulação do funcionamento de um escalonador de processos. As duas configurações importantes aqui são o valor do quantum padrão (que pode ser dinamico em algoritmos mais complexos, e quantos timeslices um processo que faz e/s passa bloqueado.\n",
    "\n",
    "Percebam que na terceira linha é instanciado o escalonador (neste caso, um round_robin). Isto foi feito assim para ser simples trocar o escalonador e repetir a simulação, bastando criar uma classe com os métodos pronto, proximo e construtor e alterar esta linha."
   ]
  },
  {
   "cell_type": "markdown",
   "metadata": {
    "colab_type": "text",
    "id": "l-WBMAKhXJK4"
   },
   "source": [
    "### Laboratório: ###\n",
    "\n",
    "\n",
    "1 - Altere o simulador acima para calcular o tempo de execucao medio e tempo de resposta \n",
    "\n",
    "2 - Implemente o escalonador por FIFO e SJF e verifique seus tempos de execução e espera.\n",
    "\n",
    "3 - Faça em outra célula uma implementação do STCF e Round Robin, alterando o p.roda() para receber o quantum\n"
   ]
  },
  {
   "cell_type": "markdown",
   "metadata": {
    "colab_type": "text",
    "id": "G5T25EzaXJK5"
   },
   "source": [
    "Na segunda feira (15) haverá um questionário no ColabWeb onde você deverá utilizar suas implementações para responder às perguntas. Na terça de manhã farei uma breve conferência para tirar dúvidas."
   ]
  },
  {
   "cell_type": "code",
   "execution_count": 95,
   "metadata": {},
   "outputs": [],
   "source": [
    "class FIFO(object):     \n",
    "    def __init__(self,vprontos=[]):\n",
    "        self.prontos = vprontos #processos que chegam no tempo zero, no caso de FIFO - todos\n",
    "\n",
    "    def pronto(self,Processo):\n",
    "        # implemente aqui o que escalonador faz quando surge um novo processo pronto: add na fila\n",
    "        self.prontos.append(Processo)\n",
    "        \n",
    "    def proximo(self):\n",
    "        # implemente aqui a politica de escalonamento para definir um processo a ser executado\n",
    "            # retira da fila o proximo a ser executado\n",
    "            # \"executa\" -> somar o tempo do processo ao tempo total de execução        \n",
    "        p = self.prontos.pop(0)\n",
    "        return p #processo p eh escolhido"
   ]
  },
  {
   "cell_type": "code",
   "execution_count": 96,
   "metadata": {},
   "outputs": [
    {
     "name": "stdout",
     "output_type": "stream",
     "text": [
      "A  rodou por  10  timeslice, faltam  0\n",
      "Tempo resposta -  A :  0\n",
      "Tempo execucao -  A :  10\n",
      "B  rodou por  20  timeslice, faltam  0\n",
      "Tempo resposta -  B :  10\n",
      "Tempo execucao -  B :  30\n",
      "C  rodou por  30  timeslice, faltam  0\n",
      "Tempo resposta -  C :  30\n",
      "Tempo execucao -  C :  60\n",
      "D  rodou por  40  timeslice, faltam  0\n",
      "Tempo resposta -  D :  60\n",
      "Tempo execucao -  D :  100\n",
      "\n",
      "Tempo medio execucao:  50.0\n",
      "Tempo medio resposta:  25.0\n"
     ]
    }
   ],
   "source": [
    "# QUESTIONARIO 1.1\n",
    "# nprocs = 5\n",
    "# nomes = ['A','B','C','D','E']\n",
    "# chanceio = [0,0,0,0,0] #Valor de zero a cem, chance de ser entrada e saida por enquanto deixem em zero\n",
    "\n",
    "# tamanhoFIFO = np.array([20,20,20,20,20])\n",
    "# tempoCheg = [0,0,0,0,0]\n",
    "\n",
    "# QUESTIONARIO 1.2\n",
    "nprocs = 4\n",
    "nomes = ['A','B','C','D']\n",
    "chanceio = [0,0,0,0] #Valor de zero a cem, chance de ser entrada e saida por enquanto deixem em zero\n",
    "\n",
    "tamanhoFIFO = np.array([10,20,30,40])\n",
    "tempoCheg = [0,0,0,0]\n",
    "\n",
    "totalFIFO = tamanhoFIFO.sum()\n",
    "\n",
    "procsFIFO = []\n",
    "for i in range(nprocs):\n",
    "    procsFIFO.append(Processo(nomes[i],chanceio[i],tamanhoFIFO[i],0,tempoCheg[i])) #cria uma lista procs de Processos\n",
    "\n",
    "tempoMedioExec = 0\n",
    "tempoMedioResp = 0\n",
    "tempo = 0\n",
    "\n",
    "escFIFO = FIFO(procsFIFO)\n",
    "\n",
    "random.seed(0)\n",
    "\n",
    "while totalFIFO>0:\n",
    "    p = escFIFO.proximo()\n",
    "    if(p is not None):\n",
    "        rodou, _ = p.roda() #adicione quantum como parâmetro, por enquanto nao temos E/S\n",
    "        \n",
    "        if(p.tam>0):\n",
    "            escFIFO.pronto(p)\n",
    "        totalFIFO-=rodou\n",
    "        print(\"Tempo resposta - \", p.nome,\": \", tempResp(p, tempo))\n",
    "        tempoMedioResp += tempResp(p, tempo)\n",
    "        tempo+=rodou\n",
    "        print(\"Tempo execucao - \", p.nome,\": \", tempExec(p, tempo))\n",
    "        tempoMedioExec += tempExec(p, tempo)\n",
    "    else:\n",
    "        #Reduz o tempo de todos os bloqueados em uma unidade se nao havia ninguem pronto\n",
    "        tempo+=1\n",
    "print(\"\")\n",
    "print(\"Tempo medio execucao: \", tempoMedioExec/nprocs)\n",
    "print(\"Tempo medio resposta: \", tempoMedioResp/nprocs)"
   ]
  },
  {
   "cell_type": "code",
   "execution_count": 8,
   "metadata": {},
   "outputs": [],
   "source": [
    "class SJF(object):     \n",
    "    def __init__(self,vprontos=[]):\n",
    "        self.prontos = vprontos #processos que chegam no tempo zero, no caso do SJF - todos\n",
    "        \n",
    "        # realiza a ordenação dos processos, visto que no SJF todos chegam no tempo 0\n",
    "        for j in range(0, len(self.prontos)):\n",
    "            for i in range(0, len(self.prontos)-1):\n",
    "                if(self.prontos[i].tam > self.prontos[i+1].tam):\n",
    "                    aux = self.prontos[i+1]\n",
    "                    self.prontos[i+1] = self.prontos[i]\n",
    "                    self.prontos[i] = aux\n",
    "        \n",
    "    def pronto(self,Processo):\n",
    "        # implemente aqui o que escalonador faz quando surge um novo processo pronto: add na fila\n",
    "        self.prontos.append(Processo)\n",
    "        \n",
    "    def proximo(self):\n",
    "        # implemente aqui a politica de escalonamento para definir um processo a ser executado\n",
    "            # os processos já estão ordenados por tempo menor, então é só seguir a fila\n",
    "            # \"executa\" -> retira da fila e soma o tempo do processo ao tempo total de execução         \n",
    "        p = self.prontos.pop(0)\n",
    "        return p #processo p eh escolhido"
   ]
  },
  {
   "cell_type": "code",
   "execution_count": 30,
   "metadata": {},
   "outputs": [
    {
     "name": "stdout",
     "output_type": "stream",
     "text": [
      "A  rodou por  10  timeslice, faltam  0\n",
      "Tempo resposta -  A :  0\n",
      "Tempo execucao -  A :  10\n",
      "B  rodou por  20  timeslice, faltam  0\n",
      "Tempo resposta -  B :  10\n",
      "Tempo execucao -  B :  30\n",
      "C  rodou por  30  timeslice, faltam  0\n",
      "Tempo resposta -  C :  30\n",
      "Tempo execucao -  C :  60\n",
      "D  rodou por  40  timeslice, faltam  0\n",
      "Tempo resposta -  D :  60\n",
      "Tempo execucao -  D :  100\n",
      "\n",
      "Tempo medio execucao:  50.0\n",
      "Tempo medio resposta:  25.0\n"
     ]
    }
   ],
   "source": [
    "# QUESTIONÁRIO 1.1\n",
    "# nprocs = 5\n",
    "# nomes = ['A','B','C','D','E']\n",
    "# chanceio = [0,0,0,0,0] #Valor de zero a cem, chance de ser entrada e saida por enquanto deixem em zero\n",
    "\n",
    "# tamanhoSJF = np.array([20,20,20,20,20])\n",
    "# tempoCheg = [0,0,0,0,0]\n",
    "\n",
    "# QUESTIONÁRIO 1.2\n",
    "nprocs = 4\n",
    "nomes = ['A','B','C','D']\n",
    "chanceio = [0,0,0,0] #Valor de zero a cem, chance de ser entrada e saida por enquanto deixem em zero\n",
    "\n",
    "tamanhoSJF = np.array([10,20,30,40])\n",
    "tempoCheg = [0,0,0,0]\n",
    "\n",
    "totalSJF = tamanhoSJF.sum()\n",
    "\n",
    "procsSJF = []\n",
    "x = [] # tamanho processo\n",
    "y = [] # tempo resposta\n",
    "\n",
    "for i in range(nprocs):\n",
    "    procsSJF.append(Processo(nomes[i],chanceio[i],tamanhoSJF[i],0,tempoCheg[i])) #cria uma lista procs de Processos\n",
    "\n",
    "tempoMedioExec = 0\n",
    "tempoMedioResp = 0\n",
    "tempo = 0\n",
    "\n",
    "escSJF = SJF(procsSJF)\n",
    "\n",
    "random.seed(0)\n",
    "\n",
    "while totalSJF>0:\n",
    "    p = escSJF.proximo()\n",
    "    x.append(p.tam)\n",
    "    if(p is not None):\n",
    "        rodou, _ = p.roda() #adicione quantum como parâmetro, por enquanto nao temos E/S\n",
    "        \n",
    "        if(p.tam>0):\n",
    "            escSJF.pronto(p)\n",
    "        totalSJF-=rodou\n",
    "        print(\"Tempo resposta - \", p.nome,\": \", tempResp(p, tempo))\n",
    "        tempoMedioResp += tempResp(p, tempo)\n",
    "        y.append(tempResp(p, tempo))        \n",
    "        tempo+=rodou\n",
    "        print(\"Tempo execucao - \", p.nome,\": \", tempExec(p, tempo))\n",
    "        tempoMedioExec += tempExec(p, tempo)\n",
    "    else:\n",
    "        #Reduz o tempo de todos os bloqueados em uma unidade se nao havia ninguem pronto\n",
    "        tempo+=1\n",
    "print(\"\")\n",
    "print(\"Tempo medio execucao: \", tempoMedioExec/nprocs)\n",
    "print(\"Tempo medio resposta: \", tempoMedioResp/nprocs)"
   ]
  },
  {
   "cell_type": "code",
   "execution_count": 31,
   "metadata": {},
   "outputs": [
    {
     "data": {
      "image/png": "[encoded data removed]",
      "text/plain": [
       "<Figure size 432x288 with 1 Axes>"
      ]
     },
     "metadata": {
      "needs_background": "light"
     },
     "output_type": "display_data"
    }
   ],
   "source": [
    "plt.plot(x,y)\n",
    "plt.title('Grafico 1')\n",
    "plt.ylabel('Tempo de resposta')\n",
    "plt.xlabel('Tamanho processos')\n",
    "plt.show()"
   ]
  },
  {
   "cell_type": "code",
   "execution_count": 5,
   "metadata": {},
   "outputs": [],
   "source": [
    "class STCF(object):     \n",
    "    def __init__(self,vprontos=[]):\n",
    "        self.prontos = vprontos #processos que chegam no tempo zero\n",
    "        \n",
    "    def pronto(self,Processo):\n",
    "        # implemente aqui o que escalonador faz quando surge um novo processo pronto\n",
    "        self.prontos.append(Processo)\n",
    "        \n",
    "    def proximo(self):\n",
    "        # implemente aqui a politica de escalonamento para definir um processo a ser executado     \n",
    "        p = self.prontos.pop(0)\n",
    "        return p #processo p eh escolhido"
   ]
  },
  {
   "cell_type": "code",
   "execution_count": 10,
   "metadata": {},
   "outputs": [
    {
     "name": "stdout",
     "output_type": "stream",
     "text": [
      "A  rodou por  2  timeslice, faltam  98\n",
      "Tempo execucao -  A :  2\n",
      "B  rodou por  20  timeslice, faltam  0\n",
      "Tempo execucao -  B :  20\n",
      "C  rodou por  4  timeslice, faltam  16\n",
      "Tempo execucao -  C :  24\n",
      "D  rodou por  10  timeslice, faltam  0\n",
      "Tempo execucao -  D :  32\n",
      "A  rodou por  98  timeslice, faltam  0\n",
      "Tempo execucao -  A :  134\n",
      "C  rodou por  16  timeslice, faltam  0\n",
      "Tempo execucao -  C :  148\n",
      "\n",
      "Tempo medio execucao:  90.0\n"
     ]
    }
   ],
   "source": [
    "nprocs = 4\n",
    "nomes = ['A','B','C','D']\n",
    "chanceio = [0,0,0,0] #Valor de zero a cem, chance de ser entrada e saida por enquanto deixem em zero\n",
    "\n",
    "tamanhoSTCF = np.array([100,20,20,10])\n",
    "tempoCheg = [0,2,2,4]\n",
    "\n",
    "totalSTCF = tamanhoSTCF.sum()\n",
    "\n",
    "procsSTCF = []\n",
    "qArr = []\n",
    "\n",
    "for i in range(nprocs):\n",
    "    procsSTCF.append(Processo(nomes[i],chanceio[i],tamanhoSTCF[i],0,tempoCheg[i])) #cria uma lista procs de Processos\n",
    "    if (tempoCheg[i] != 0):\n",
    "        qArr.append(tempoCheg[i])\n",
    "qArr.append(qArr[len(qArr)-1])\n",
    "        \n",
    "tempoMedioExec = 0\n",
    "tempoMedioResp = 0\n",
    "tempo = 0\n",
    "j = 0\n",
    "\n",
    "escSTCF = STCF(procsSTCF)\n",
    "\n",
    "random.seed(0)\n",
    "\n",
    "while totalSTCF>0:\n",
    "    p = escSTCF.proximo()\n",
    "    if(p is not None):\n",
    "        if (j < len(qArr) and qArr[j] != p.chegada):\n",
    "            rodou, _ = p.roda(qArr[j]) #adicione quantum como parâmetro, por enquanto nao temos E/S\n",
    "        else:\n",
    "            rodou, _ = p.roda() #adicione quantum como parâmetro, por enquanto nao temos E/S\n",
    "        if(p.tam>0):\n",
    "            escSTCF.pronto(p)\n",
    "        totalSTCF-=rodou  \n",
    "        tempo+=rodou\n",
    "        print(\"Tempo execucao - \", p.nome,\": \", tempExec(p, tempo))\n",
    "        tempoMedioExec += tempExec(p, tempo)\n",
    "    else:\n",
    "        #Reduz o tempo de todos os bloqueados em uma unidade se nao havia ninguem pronto\n",
    "        tempo+=1\n",
    "    j += 1\n",
    "print(\"\")\n",
    "print(\"Tempo medio execucao: \", tempoMedioExec/nprocs)"
   ]
  },
  {
   "cell_type": "code",
   "execution_count": 33,
   "metadata": {},
   "outputs": [],
   "source": [
    "class RR(object): \n",
    "    def __init__(self,vprontos=[]):\n",
    "        self.prontos = vprontos #processos que chegam no tempo zero        \n",
    "        \n",
    "    def pronto(self,Processo):\n",
    "        # implemente aqui o que escalonador faz quando surge um novo processo pronto\n",
    "        self.prontos.append(Processo)\n",
    "        \n",
    "    def proximo(self):\n",
    "        # implemente aqui a politica de escalonamento para definir um processo a ser executado\n",
    "        p = self.prontos.pop(0)\n",
    "        return p #processo p eh escolhido\n"
   ]
  },
  {
   "cell_type": "code",
   "execution_count": 58,
   "metadata": {},
   "outputs": [],
   "source": [
    "xQ = [] # quantum\n",
    "yTR = [] # tempo resposta"
   ]
  },
  {
   "cell_type": "code",
   "execution_count": 59,
   "metadata": {},
   "outputs": [
    {
     "name": "stdout",
     "output_type": "stream",
     "text": [
      "A  rodou por  2  timeslice, faltam  8\n",
      "Tempo resposta -  A :  0\n",
      "B  rodou por  2  timeslice, faltam  18\n",
      "Tempo resposta -  B :  2\n",
      "C  rodou por  2  timeslice, faltam  28\n",
      "Tempo resposta -  C :  4\n",
      "D  rodou por  2  timeslice, faltam  38\n",
      "Tempo resposta -  D :  6\n",
      "A  rodou por  2  timeslice, faltam  6\n",
      "B  rodou por  2  timeslice, faltam  16\n",
      "C  rodou por  2  timeslice, faltam  26\n",
      "D  rodou por  2  timeslice, faltam  36\n",
      "A  rodou por  2  timeslice, faltam  4\n",
      "B  rodou por  2  timeslice, faltam  14\n",
      "C  rodou por  2  timeslice, faltam  24\n",
      "D  rodou por  2  timeslice, faltam  34\n",
      "A  rodou por  2  timeslice, faltam  2\n",
      "B  rodou por  2  timeslice, faltam  12\n",
      "C  rodou por  2  timeslice, faltam  22\n",
      "D  rodou por  2  timeslice, faltam  32\n",
      "A  rodou por  2  timeslice, faltam  0\n",
      "Tempo execucao -  A :  34\n",
      "B  rodou por  2  timeslice, faltam  10\n",
      "C  rodou por  2  timeslice, faltam  20\n",
      "D  rodou por  2  timeslice, faltam  30\n",
      "B  rodou por  2  timeslice, faltam  8\n",
      "C  rodou por  2  timeslice, faltam  18\n",
      "D  rodou por  2  timeslice, faltam  28\n",
      "B  rodou por  2  timeslice, faltam  6\n",
      "C  rodou por  2  timeslice, faltam  16\n",
      "D  rodou por  2  timeslice, faltam  26\n",
      "B  rodou por  2  timeslice, faltam  4\n",
      "C  rodou por  2  timeslice, faltam  14\n",
      "D  rodou por  2  timeslice, faltam  24\n",
      "B  rodou por  2  timeslice, faltam  2\n",
      "C  rodou por  2  timeslice, faltam  12\n",
      "D  rodou por  2  timeslice, faltam  22\n",
      "B  rodou por  2  timeslice, faltam  0\n",
      "Tempo execucao -  B :  66\n",
      "C  rodou por  2  timeslice, faltam  10\n",
      "D  rodou por  2  timeslice, faltam  20\n",
      "C  rodou por  2  timeslice, faltam  8\n",
      "D  rodou por  2  timeslice, faltam  18\n",
      "C  rodou por  2  timeslice, faltam  6\n",
      "D  rodou por  2  timeslice, faltam  16\n",
      "C  rodou por  2  timeslice, faltam  4\n",
      "D  rodou por  2  timeslice, faltam  14\n",
      "C  rodou por  2  timeslice, faltam  2\n",
      "D  rodou por  2  timeslice, faltam  12\n",
      "C  rodou por  2  timeslice, faltam  0\n",
      "Tempo execucao -  C :  88\n",
      "D  rodou por  2  timeslice, faltam  10\n",
      "D  rodou por  2  timeslice, faltam  8\n",
      "D  rodou por  2  timeslice, faltam  6\n",
      "D  rodou por  2  timeslice, faltam  4\n",
      "D  rodou por  2  timeslice, faltam  2\n",
      "D  rodou por  2  timeslice, faltam  0\n",
      "Tempo execucao -  D :  100\n",
      "\n",
      "Tempo medio execucao:  72.0\n",
      "Tempo medio resposta:  3.0\n"
     ]
    }
   ],
   "source": [
    "# QUESTIONÁRIO 1.1\n",
    "# nprocs = 5\n",
    "# nomes = ['A','B','C','D','E']\n",
    "# chanceio = [0,0,0,0,0] #Valor de zero a cem, chance de ser entrada e saida por enquanto deixem em zero\n",
    "\n",
    "# tamanhoRR = np.array([20,20,20,20,20])\n",
    "# tempoCheg = [0,0,0,0,0]\n",
    "\n",
    "# QUESTIONÁRIO 1.2\n",
    "nprocs = 4\n",
    "nomes = ['A','B','C','D']\n",
    "chanceio = [0,0,0,0] #Valor de zero a cem, chance de ser entrada e saida por enquanto deixem em zero\n",
    "\n",
    "tamanhoRR = np.array([10,20,30,40])\n",
    "tempoCheg = [0,0,0,0]\n",
    "\n",
    "totalRR = tamanhoRR.sum()\n",
    "\n",
    "procsRR = []\n",
    "\n",
    "\n",
    "for i in range(nprocs):\n",
    "    procsRR.append(Processo(nomes[i],chanceio[i],tamanhoRR[i],0,tempoCheg[i]))\n",
    "\n",
    "escRR = RR(procsRR)\n",
    "\n",
    "quantum = 2\n",
    "tempo = 0\n",
    "tempoMedioExec = 0\n",
    "tempoMedioResp = 0\n",
    "\n",
    "i = 0\n",
    "\n",
    "while totalRR>0:\n",
    "    p = escRR.proximo()\n",
    "    if(p is not None):\n",
    "        rodou, _ = p.roda(quantum) #adicione quantum como parâmetro, por enquanto nao temos E/S\n",
    "        \n",
    "        if(p.tam>0):\n",
    "            escRR.pronto(p)\n",
    "        totalRR-=rodou\n",
    "        if(i < nprocs and ((p.tam + quantum) == tamanhoRR[i])):\n",
    "            print(\"Tempo resposta - \", p.nome,\": \", tempResp(p, tempo))\n",
    "            tempoMedioResp += tempResp(p, tempo)\n",
    "        tempo+=rodou\n",
    "        if (p.tam == 0):\n",
    "            print(\"Tempo execucao - \", p.nome,\": \", tempExec(p, tempo))\n",
    "            tempoMedioExec += tempExec(p, tempo)\n",
    "    else:\n",
    "        #Reduz o tempo de todos os bloqueados em uma unidade se nao havia ninguem pronto\n",
    "        tempo+=1\n",
    "    i += 1\n",
    "print(\"\")\n",
    "print(\"Tempo medio execucao: \", tempoMedioExec/nprocs)\n",
    "print(\"Tempo medio resposta: \", tempoMedioResp/nprocs)\n",
    "xQ.append(quantum)\n",
    "yTR.append(tempoMedioResp/nprocs)"
   ]
  },
  {
   "cell_type": "code",
   "execution_count": 50,
   "metadata": {},
   "outputs": [
    {
     "data": {
      "image/png": "[encoded data removed]",
      "text/plain": [
       "<Figure size 432x288 with 1 Axes>"
      ]
     },
     "metadata": {
      "needs_background": "light"
     },
     "output_type": "display_data"
    }
   ],
   "source": [
    "plt.plot(xQ,yTR)\n",
    "plt.title('Grafico 2')\n",
    "plt.ylabel('Tempo de resposta')\n",
    "plt.xlabel('Quantum')\n",
    "plt.show()"
   ]
  },
  {
   "cell_type": "code",
   "execution_count": null,
   "metadata": {},
   "outputs": [],
   "source": []
  }
 ],
 "metadata": {
  "colab": {
   "name": "Laboratório Escalonamento.ipynb",
   "provenance": []
  },
  "kernelspec": {
   "display_name": "Python 3 (ipykernel)",
   "language": "python",
   "name": "python3"
  },
  "language_info": {
   "codemirror_mode": {
    "name": "ipython",
    "version": 3
   },
   "file_extension": ".py",
   "mimetype": "text/x-python",
   "name": "python",
   "nbconvert_exporter": "python",
   "pygments_lexer": "ipython3",
   "version": "3.9.6"
  }
 },
 "nbformat": 4,
 "nbformat_minor": 1
}
